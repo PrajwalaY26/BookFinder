{
  "nbformat": 4,
  "nbformat_minor": 0,
  "metadata": {
    "colab": {
      "provenance": [],
      "authorship_tag": "ABX9TyNNEV03NOUgQSVrSMaNES4P"
    },
    "kernelspec": {
      "name": "python3",
      "display_name": "Python 3"
    },
    "language_info": {
      "name": "python"
    }
  },
  "cells": [
    {
      "cell_type": "code",
      "source": [
        "import sqlite3\n",
        "import pandas as pd\n",
        "import os\n",
        "from tabulate import tabulate"
      ],
      "metadata": {
        "id": "KUe10kxuyZGo"
      },
      "execution_count": 14,
      "outputs": []
    },
    {
      "cell_type": "code",
      "source": [
        "print(df.columns)"
      ],
      "metadata": {
        "colab": {
          "base_uri": "https://localhost:8080/"
        },
        "id": "eEMlV7IZ0teV",
        "outputId": "365fcd7c-92c8-4b8e-a249-213b62bf541e"
      },
      "execution_count": 21,
      "outputs": [
        {
          "output_type": "stream",
          "name": "stdout",
          "text": [
            "Index(['Book Name', 'Author Name', 'Publish Year', 'Rating', 'Genre'], dtype='object')\n"
          ]
        }
      ]
    },
    {
      "cell_type": "code",
      "source": [
        "# Remove extra spaces from column names\n",
        "df.columns = df.columns.str.strip()\n",
        "print(df.columns)  # Verify the column names"
      ],
      "metadata": {
        "colab": {
          "base_uri": "https://localhost:8080/"
        },
        "id": "4Y0C0c4Lyy_5",
        "outputId": "93368ca7-7183-481f-e749-787455dc6365"
      },
      "execution_count": 16,
      "outputs": [
        {
          "output_type": "stream",
          "name": "stdout",
          "text": [
            "Index(['bookID', 'title', 'authors', 'average_rating', 'isbn', 'isbn13',\n",
            "       'language_code', 'num_pages', 'ratings_count', 'text_reviews_count',\n",
            "       'publication_date', 'publisher'],\n",
            "      dtype='object')\n"
          ]
        }
      ]
    },
    {
      "cell_type": "code",
      "source": [
        "# Correct file path to your Excel file\n",
        "file_path = \"BooksDataSet.xlsx\"\n",
        "\n",
        "# Verify the file path\n",
        "if not os.path.isfile(file_path):\n",
        "    raise FileNotFoundError(f\"The file {file_path} does not exist.\")\n",
        "\n",
        "# Load the dataset into a DataFrame with error handling\n",
        "try:\n",
        "    df = pd.read_excel(file_path, engine='openpyxl')  # Use 'openpyxl' engine for .xlsx files\n",
        "except pd.errors.ParserError as e:\n",
        "    print(f\"Error reading the Excel file: {e}\")\n",
        "    exit(1)\n",
        "\n",
        "# Remove any leading or trailing spaces from column names\n",
        "df.columns = df.columns.str.strip()\n",
        "\n",
        "# Standardize column names to avoid spaces and case issues\n",
        "df.columns = ['book_name', 'author_name', 'publish_year', 'rating', 'genre']\n",
        "\n",
        "# Create a connection to the SQLite database\n",
        "conn = sqlite3.connect('books.db')\n",
        "cursor = conn.cursor()\n",
        "\n",
        "# Drop the existing table if it exists\n",
        "cursor.execute(\"DROP TABLE IF EXISTS books\")\n",
        "\n",
        "# Create the table with the standardized column names\n",
        "cursor.execute('''\n",
        "    CREATE TABLE books (\n",
        "        id INTEGER PRIMARY KEY AUTOINCREMENT,\n",
        "        book_name TEXT,\n",
        "        author_name TEXT,\n",
        "        publish_year TEXT,\n",
        "        rating REAL,\n",
        "        genre TEXT\n",
        "    )\n",
        "''')\n",
        "\n",
        "# Insert data into the table\n",
        "df.to_sql('books', conn, if_exists='replace', index=False)\n",
        "\n",
        "# Debug: Check the table schema\n",
        "def print_table_schema():\n",
        "    cursor.execute(\"PRAGMA table_info(books);\")\n",
        "    schema = cursor.fetchall()\n",
        "\n",
        "print_table_schema()\n",
        "\n",
        "# Function to display available options\n",
        "def display_options():\n",
        "    cursor.execute(\"SELECT DISTINCT genre FROM books\")\n",
        "    genres = cursor.fetchall()\n",
        "    genres = sorted([genre[0] for genre in genres if genre])\n",
        "\n",
        "    cursor.execute(\"SELECT MIN(rating), MAX(rating) FROM books\")\n",
        "    min_rating, max_rating = cursor.fetchone()\n",
        "\n",
        "    return genres\n",
        "\n",
        "# Function to query books based on user preferences\n",
        "def get_books_by_preferences():\n",
        "    genres = display_options()\n",
        "\n",
        "    # Display genre options again for clarity\n",
        "    print(\"\\nGenre options:\")\n",
        "    for i, genre in enumerate(genres, start=1):\n",
        "        print(f\" {i}. {genre}\")\n",
        "\n",
        "    try:\n",
        "        genre_choice = int(input(\"\\nEnter the number corresponding to your genre preference or 0 to skip: \").strip())\n",
        "        genre = genres[genre_choice - 1] if genre_choice != 0 else None\n",
        "    except (IndexError, ValueError):\n",
        "        genre = None\n",
        "\n",
        "    print(\"\\nRating range:\")\n",
        "    print(f\" - Minimum rating: 0\")\n",
        "    print(f\" - Maximum rating: {max_rating}\")\n",
        "    min_rating = input(\"Do you have a minimum rating preference (out of 5)? (Enter rating or press enter to skip): \").strip()\n",
        "\n",
        "    query = \"SELECT book_name, author_name, publish_year, rating, genre FROM books WHERE 1=1\"\n",
        "    params = []\n",
        "\n",
        "    if genre:\n",
        "        query += \" AND genre = ?\"\n",
        "        params.append(genre)\n",
        "\n",
        "    if min_rating:\n",
        "        query += \" AND rating >= ?\"\n",
        "        params.append(float(min_rating))\n",
        "\n",
        "    try:\n",
        "        cursor.execute(query, params)\n",
        "        results = cursor.fetchall()\n",
        "\n",
        "        if results:\n",
        "            headers = ['Book Name', 'Author Name', 'Publish Year', 'Rating', 'Genre']\n",
        "            print(\"\\nBooks matching your criteria:\\n\")\n",
        "            print(tabulate(results, headers=headers, tablefmt='grid'))\n",
        "        else:\n",
        "            print(\"No books found matching your criteria.\")\n",
        "    except sqlite3.OperationalError as e:\n",
        "        print(f\"SQL Error: {e}\")\n",
        "\n",
        "# Prompt user for preferences and get matching books\n",
        "get_books_by_preferences()\n",
        "\n",
        "# Close the connection\n",
        "conn.close()"
      ],
      "metadata": {
        "colab": {
          "base_uri": "https://localhost:8080/"
        },
        "id": "yjS3CtiWy26N",
        "outputId": "1f684d87-fd2a-4cd3-bf40-983cd2d27c88"
      },
      "execution_count": 29,
      "outputs": [
        {
          "output_type": "stream",
          "name": "stdout",
          "text": [
            "\n",
            "Genre options:\n",
            " 1. Adventure\n",
            " 2. Autobiographical\n",
            " 3. Autobiography\n",
            " 4. Biography\n",
            " 5. Classic\n",
            " 6. Coming-of-Age\n",
            " 7. Contemporary\n",
            " 8. Drama\n",
            " 9. Dystopian\n",
            " 10. Fantasy\n",
            " 11. Fiction\n",
            " 12. Historical\n",
            " 13. Historical Fiction\n",
            " 14. Horror\n",
            " 15. Magical Realism\n",
            " 16. Modernist\n",
            " 17. Mystery\n",
            " 18. Philosophical\n",
            " 19. Political Satire\n",
            " 20. Romance\n",
            " 21. Satire\n",
            " 22. Science Fiction\n",
            " 23. Self-Help\n",
            " 24. Thriller\n",
            " 25. Young Adult\n",
            "\n",
            "Enter the number corresponding to your genre preference or 0 to skip: 23\n",
            "Do you have a minimum rating preference (out of 5)? (Enter rating or press enter to skip): 3\n",
            "\n",
            "Books matching your criteria:\n",
            "\n",
            "+-------------+-------------------+----------------+----------+-----------+\n",
            "| Book Name   | Author Name       |   Publish Year |   Rating | Genre     |\n",
            "+=============+===================+================+==========+===========+\n",
            "| Big Magic   | Elizabeth Gilbert |           2015 |      4.3 | Self-Help |\n",
            "+-------------+-------------------+----------------+----------+-----------+\n"
          ]
        }
      ]
    }
  ]
}